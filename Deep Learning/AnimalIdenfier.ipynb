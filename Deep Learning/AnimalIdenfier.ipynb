{
  "nbformat": 4,
  "nbformat_minor": 0,
  "metadata": {
    "colab": {
      "provenance": [],
      "mount_file_id": "12nezDSWxJ7DpdxhPQJeCS1VL05EWl5td",
      "authorship_tag": "ABX9TyMuy9jvP842khnFdAiLimNr",
      "include_colab_link": true
    },
    "kernelspec": {
      "name": "python3",
      "display_name": "Python 3"
    },
    "language_info": {
      "name": "python"
    }
  },
  "cells": [
    {
      "cell_type": "markdown",
      "metadata": {
        "id": "view-in-github",
        "colab_type": "text"
      },
      "source": [
        "<a href=\"https://colab.research.google.com/github/Fawad98/Data-Science-Projects/blob/main/AnimalIdenfier.ipynb\" target=\"_parent\"><img src=\"https://colab.research.google.com/assets/colab-badge.svg\" alt=\"Open In Colab\"/></a>"
      ]
    },
    {
      "cell_type": "code",
      "execution_count": null,
      "metadata": {
        "colab": {
          "base_uri": "https://localhost:8080/"
        },
        "id": "rgBF0aJTfBg-",
        "outputId": "b7e3a8ad-7525-4e3a-ccf8-6b97c5ce6a34"
      },
      "outputs": [
        {
          "output_type": "stream",
          "name": "stdout",
          "text": [
            "Looking in indexes: https://pypi.org/simple, https://us-python.pkg.dev/colab-wheels/public/simple/\n",
            "Looking in links: https://download.pytorch.org/whl/torch_stable.html\n",
            "Requirement already satisfied: torch==1.9.0+cpu in /usr/local/lib/python3.8/dist-packages (1.9.0+cpu)\n",
            "Requirement already satisfied: torchvision==0.10.0+cpu in /usr/local/lib/python3.8/dist-packages (0.10.0+cpu)\n",
            "Requirement already satisfied: torchaudio==0.9.0 in /usr/local/lib/python3.8/dist-packages (0.9.0)\n",
            "Requirement already satisfied: typing-extensions in /usr/local/lib/python3.8/dist-packages (from torch==1.9.0+cpu) (4.4.0)\n",
            "Requirement already satisfied: numpy in /usr/local/lib/python3.8/dist-packages (from torchvision==0.10.0+cpu) (1.21.6)\n",
            "Requirement already satisfied: pillow>=5.3.0 in /usr/local/lib/python3.8/dist-packages (from torchvision==0.10.0+cpu) (7.1.2)\n"
          ]
        }
      ],
      "source": [
        "!pip install torch==1.9.0+cpu torchvision==0.10.0+cpu torchaudio==0.9.0 -f https://download.pytorch.org/whl/torch_stable.html"
      ]
    },
    {
      "cell_type": "code",
      "source": [
        "import torch\n",
        "import torchvision\n",
        "import torchvision.transforms as transforms\n",
        "import torch.nn as nn\n",
        "from torch.autograd import Variable\n",
        "import torch.nn.functional as F\n",
        "\n",
        "import numpy as np\n",
        "import os\n",
        "import matplotlib.pyplot as plt\n",
        "import matplotlib.image as mpimg\n",
        "%matplotlib inline\n",
        "\n",
        "print(\"Libraries imported - ready to use Pytorch\", torch.__version__)"
      ],
      "metadata": {
        "colab": {
          "base_uri": "https://localhost:8080/"
        },
        "id": "mWgohX9JfHT6",
        "outputId": "5acc6bca-48d9-4e0f-cd9b-7c05984efae4"
      },
      "execution_count": null,
      "outputs": [
        {
          "output_type": "stream",
          "name": "stdout",
          "text": [
            "Libraries imported - ready to use Pytorch 1.9.0+cpu\n"
          ]
        }
      ]
    },
    {
      "cell_type": "code",
      "source": [
        "data_path = '/content/drive/MyDrive/data/AnimalDataset/training/'\n",
        "\n",
        "classes = os.listdir(data_path)\n",
        "classes.sort()\n",
        "print(len(classes), 'classes:')\n",
        "print(classes)\n",
        "\n",
        "fig = plt.figure(figsize=(8,12))\n",
        "i=0\n",
        "for sub_dir in os.listdir(data_path):\n",
        "  i+=1\n",
        "  img_file = os.listdir(os.path.join(data_path, sub_dir))[0]\n",
        "  img_path = os.path.join(data_path, sub_dir, img_file)\n",
        "  img = mpimg.imread(img_path)\n",
        "  a = fig.add_subplot(1, len(classes), i)\n",
        "  imgplot = plt.imshow(img)\n",
        "  a.set_title(img_file)\n",
        "plt.show()\n"
      ],
      "metadata": {
        "colab": {
          "base_uri": "https://localhost:8080/",
          "height": 196
        },
        "id": "6Qdz26Epg0eL",
        "outputId": "2e295886-a739-4501-b432-73710f4b19b8"
      },
      "execution_count": null,
      "outputs": [
        {
          "output_type": "stream",
          "name": "stdout",
          "text": [
            "4 classes:\n",
            "['elephant', 'giraffe', 'lion', 'zebra']\n"
          ]
        },
        {
          "output_type": "display_data",
          "data": {
            "text/plain": [
              "<Figure size 576x864 with 4 Axes>"
            ],
            "image/png": "[encoded data removed]"
          },
          "metadata": {
            "needs_background": "light"
          }
        }
      ]
    },
    {
      "cell_type": "code",
      "source": [
        "def load_dataset(data_path):\n",
        "  transformation = transforms.Compose(\n",
        "      [\n",
        "          transforms.ToTensor(),\n",
        "       transforms.Normalize(mean=[0.5, 0.5, 0.5], std = [0.5, 0.5, 0.5])\n",
        "      ]\n",
        "  )\n",
        "\n",
        "  full_dataset = torchvision.datasets.ImageFolder(\n",
        "      root = data_path,\n",
        "      transform = transformation\n",
        "  )\n",
        "\n",
        "  train_size = int(0.7*len(full_dataset))\n",
        "  test_size = len(full_dataset) - train_size\n",
        "  train_dataset, test_dataset = torch.utils.data.random_split(full_dataset, [train_size, test_size])\n",
        "\n",
        "  train_loader = torch.utils.data.DataLoader(\n",
        "      train_dataset,\n",
        "      batch_size=50,\n",
        "      num_workers=0,\n",
        "      shuffle=False\n",
        "  )\n",
        "\n",
        "  test_loader = torch.utils.data.DataLoader(\n",
        "      test_dataset,\n",
        "      batch_size=50,\n",
        "      num_workers=0,\n",
        "      shuffle=False\n",
        "  )\n",
        "\n",
        "  return train_loader, test_loader\n",
        "\n",
        "train_loader, test_loader = load_dataset(data_path)\n",
        "print(\"Data Loaders Ready!\")"
      ],
      "metadata": {
        "colab": {
          "base_uri": "https://localhost:8080/"
        },
        "id": "BcZMArIMlP3x",
        "outputId": "ecd2227c-b35e-4bfe-81a1-a78adabff52c"
      },
      "execution_count": null,
      "outputs": [
        {
          "output_type": "stream",
          "name": "stdout",
          "text": [
            "Data Loaders Ready!\n"
          ]
        }
      ]
    },
    {
      "cell_type": "code",
      "source": [
        "class Net(nn.Module):\n",
        "  def __init__(self, num_classes=4):\n",
        "    super(Net, self).__init__()\n",
        "\n",
        "    self.conv1 = nn.Conv2d(in_channels = 3, out_channels = 12, kernel_size = 3, stride = 1, padding=1 )\n",
        "\n",
        "    self.pool = nn.MaxPool2d(kernel_size=2)\n",
        "\n",
        "    self.conv2 = nn.Conv2d(in_channels = 12, out_channels = 12, kernel_size = 3, stride = 1, padding = 1)\n",
        "\n",
        "    self.conv3 = nn.Conv2d(in_channels = 12, out_channels=24, kernel_size = 3, stride =1, padding =1)\n",
        "\n",
        "    self.drop = nn.Dropout2d(p=0.2)\n",
        "\n",
        "    self.fc = nn.Linear(in_features = 50*50*24, out_features = num_classes)\n",
        "\n",
        "\n",
        "  def forward(self, x):\n",
        "\n",
        "    x = F.relu(self.pool(self.conv1(x)))\n",
        "\n",
        "    x = F.relu(self.pool(self.conv2(x)))\n",
        "\n",
        "    x = F.relu(self.drop(self.conv3(x)))\n",
        "\n",
        "    x = F.dropout(x,training = self.training)\n",
        "\n",
        "    x = x.view(-1,50*50*24)\n",
        "\n",
        "    x = self.fc(x)\n",
        "\n",
        "    return F.log_softmax(x,dim=1)\n",
        "\n",
        "print('CNN Model Class Defined!')"
      ],
      "metadata": {
        "colab": {
          "base_uri": "https://localhost:8080/"
        },
        "id": "b2Ulq5uWmk1Y",
        "outputId": "9e31d1e1-c874-401e-eebe-7841f4a87933"
      },
      "execution_count": null,
      "outputs": [
        {
          "output_type": "stream",
          "name": "stdout",
          "text": [
            "CNN Model Class Defined!\n"
          ]
        }
      ]
    },
    {
      "cell_type": "code",
      "source": [
        "from torch import optim\n",
        "def train(model, device, train_loader, optimizer, epoch):\n",
        "  model.train()\n",
        "  train_loss=0\n",
        "  print('Epoch:', epoch)\n",
        "\n",
        "  for batch_idx, (data, target) in enumerate(train_loader):\n",
        "    data, target = data.to(device), target.to(device)\n",
        "\n",
        "    optimizer.zero_grad()\n",
        "\n",
        "    output = model(data)\n",
        "\n",
        "    loss = loss_criteria(output, target)\n",
        "\n",
        "    train_loss += loss.item()\n",
        "\n",
        "    loss.backward()\n",
        "    optimizer.step()\n",
        "\n",
        "    if batch_idx % 10 == 0:\n",
        "      print('Training set [{}/{} ({:.0f}%)] Loss: {:.6f}'.format(batch_idx * len(data), len(train_loader.dataset),\n",
        "                                                                 100.*batch_idx / len(train_loader), loss.item()))\n",
        "  avg_loss = train_loss / (batch_idx+1)\n",
        "  print('Training set: Average loss: {:.6f}'.format(avg_loss))\n",
        "  return avg_loss\n",
        "\n",
        "def test(model, device, test_loader):\n",
        "  model.eval()\n",
        "  test_loss=0\n",
        "  correct=0\n",
        "  with torch.no_grad():\n",
        "    batch_count=0\n",
        "    for data, target in test_loader:\n",
        "      batch_count += 1\n",
        "      data, target = data.to(device), target.to(device)\n",
        "\n",
        "      output = model(data)\n",
        "\n",
        "      test_loss += loss_criteria(output,target).item()\n",
        "\n",
        "      _, predicted = torch.max(output.data, 1)\n",
        "      correct += torch.sum(target==predicted).item()\n",
        "\n",
        "  avg_loss = test_loss/batch_count\n",
        "  print('Validation set: Average loss: {:.6f}, Accuracy: {}/{} ({:.0f}%\\n'.format(\n",
        "      avg_loss, correct, len(test_loader.dataset),\n",
        "      100.*correct/len(test_loader.dataset)\n",
        "  ))\n",
        "\n",
        "  return avg_loss\n",
        "\n",
        "device = 'cpu'\n",
        "if(torch.cuda.is_available()):\n",
        "  device=\"cuda\"\n",
        "print('Training on:', device)\n",
        "\n",
        "model = Net(num_classes = len(classes)).to(device)\n",
        "\n",
        "optimizer = optim.Adam(model.parameters(), lr=0.001)\n",
        "\n",
        "loss_criteria = nn.CrossEntropyLoss()\n",
        "\n",
        "epoch_nums = []\n",
        "training_loss = []\n",
        "validation_loss = []\n",
        "\n",
        "epochs = 5\n",
        "for epoch in range(1, epochs+1):\n",
        "      train_loss = train(model, device, train_loader, optimizer, epoch)\n",
        "      test_loss = test(model, device, test_loader)\n",
        "      epoch_nums.append(epoch)\n",
        "      training_loss.append(train_loss)\n",
        "      validation_loss.append(test_loss)\n",
        "      "
      ],
      "metadata": {
        "colab": {
          "base_uri": "https://localhost:8080/"
        },
        "id": "WIDS48NgpbLx",
        "outputId": "34c3c7c9-7c2c-4841-d450-9e9305e665ca"
      },
      "execution_count": null,
      "outputs": [
        {
          "output_type": "stream",
          "name": "stdout",
          "text": [
            "Training on: cpu\n",
            "Epoch: 1\n"
          ]
        },
        {
          "output_type": "stream",
          "name": "stderr",
          "text": [
            "/usr/local/lib/python3.8/dist-packages/torch/nn/functional.py:718: UserWarning: Named tensors and all their associated APIs are an experimental feature and subject to change. Please do not use them for anything important until they are released as stable. (Triggered internally at  /pytorch/c10/core/TensorImpl.h:1156.)\n",
            "  return torch.max_pool2d(input, kernel_size, stride, padding, dilation, ceil_mode)\n"
          ]
        },
        {
          "output_type": "stream",
          "name": "stdout",
          "text": [
            "Training set [0/277 (0%)] Loss: 1.381351\n",
            "Training set: Average loss: 1.349489\n",
            "Validation set: Average loss: 1.037366, Accuracy: 75/119 (63%\n",
            "\n",
            "Epoch: 2\n",
            "Training set [0/277 (0%)] Loss: 1.222507\n",
            "Training set: Average loss: 0.672784\n",
            "Validation set: Average loss: 0.211439, Accuracy: 119/119 (100%\n",
            "\n",
            "Epoch: 3\n",
            "Training set [0/277 (0%)] Loss: 0.276926\n",
            "Training set: Average loss: 0.148413\n",
            "Validation set: Average loss: 0.039016, Accuracy: 119/119 (100%\n",
            "\n",
            "Epoch: 4\n",
            "Training set [0/277 (0%)] Loss: 0.067577\n",
            "Training set: Average loss: 0.037146\n",
            "Validation set: Average loss: 0.006019, Accuracy: 119/119 (100%\n",
            "\n",
            "Epoch: 5\n",
            "Training set [0/277 (0%)] Loss: 0.022814\n",
            "Training set: Average loss: 0.036501\n",
            "Validation set: Average loss: 0.001703, Accuracy: 119/119 (100%\n",
            "\n"
          ]
        }
      ]
    },
    {
      "cell_type": "code",
      "source": [
        "%matplotlib inline\n",
        "from matplotlib import pyplot as plt\n",
        "\n",
        "plt.plot(epoch_nums, training_loss)\n",
        "plt.plot(epoch_nums, validation_loss)\n",
        "plt.xlabel('epoch')\n",
        "plt.ylabel('loss')\n",
        "plt.legend(['training', 'validation'], loc='upper right')\n",
        "plt.show()"
      ],
      "metadata": {
        "colab": {
          "base_uri": "https://localhost:8080/",
          "height": 281
        },
        "id": "FpDgGTPurG4e",
        "outputId": "7cc5ec07-6cde-4215-e602-74877a1ca7b5"
      },
      "execution_count": null,
      "outputs": [
        {
          "output_type": "display_data",
          "data": {
            "text/plain": [
              "<Figure size 432x288 with 1 Axes>"
            ],
            "image/png": "[encoded data removed]"
          },
          "metadata": {
            "needs_background": "light"
          }
        }
      ]
    },
    {
      "cell_type": "code",
      "source": [
        "from sklearn.metrics import confusion_matrix\n",
        "\n",
        "\n",
        "model.eval()\n",
        "\n",
        "print(\"Getting predictions from test set...\")\n",
        "truelabels = []\n",
        "predictions = []\n",
        "for data, target in test_loader:\n",
        "    for label in target.cpu().data.numpy():\n",
        "        truelabels.append(label)\n",
        "    for prediction in model.cpu()(data).data.numpy().argmax(1):\n",
        "        predictions.append(prediction) \n",
        "\n",
        "\n",
        "cm = confusion_matrix(truelabels, predictions)\n",
        "plt.imshow(cm, interpolation=\"nearest\", cmap=plt.cm.Blues)\n",
        "plt.colorbar()\n",
        "tick_marks = np.arange(len(classes))\n",
        "plt.xticks(tick_marks, classes, rotation=45)\n",
        "plt.yticks(tick_marks, classes)\n",
        "plt.xlabel(\"Predicted Shape\")\n",
        "plt.ylabel(\"Actual Shape\")\n",
        "plt.show()"
      ],
      "metadata": {
        "colab": {
          "base_uri": "https://localhost:8080/",
          "height": 325
        },
        "id": "MZj83n-TuLt9",
        "outputId": "1eb338f7-84b2-487b-90f0-a17f203e64cd"
      },
      "execution_count": null,
      "outputs": [
        {
          "output_type": "stream",
          "name": "stdout",
          "text": [
            "Getting predictions from test set...\n"
          ]
        },
        {
          "output_type": "display_data",
          "data": {
            "text/plain": [
              "<Figure size 432x288 with 2 Axes>"
            ],
            "image/png": "[encoded data removed]"
          },
          "metadata": {
            "needs_background": "light"
          }
        }
      ]
    },
    {
      "cell_type": "code",
      "source": [
        "# Save the model weights\n",
        "model_file = 'animal_classifier.pt'\n",
        "torch.save(model.state_dict(), model_file)\n",
        "del model\n",
        "print('model saved as', model_file)"
      ],
      "metadata": {
        "colab": {
          "base_uri": "https://localhost:8080/"
        },
        "id": "Ul8SIldTuURZ",
        "outputId": "0911ddec-2cef-4fbe-d6d7-a4924d6cca35"
      },
      "execution_count": null,
      "outputs": [
        {
          "output_type": "stream",
          "name": "stdout",
          "text": [
            "model saved as animal_classifier.pt\n"
          ]
        }
      ]
    },
    {
      "cell_type": "code",
      "source": [
        "import matplotlib.pyplot as plt\n",
        "import os\n",
        "from random import randint\n",
        "%matplotlib inline\n",
        "\n",
        "\n",
        "# Function to predict the class of an image\n",
        "def predict_image(classifier, image):\n",
        "    import numpy\n",
        "    \n",
        "    # Default value\n",
        "    index = 0\n",
        "    \n",
        "    # Set the classifer model to evaluation mode\n",
        "    classifier.eval()\n",
        "    \n",
        "    # Apply the same transformations as we did for the training images\n",
        "    transformation = transforms.Compose([\n",
        "        transforms.ToTensor(),\n",
        "        transforms.Normalize(mean=[0.5, 0.5, 0.5], std=[0.5, 0.5, 0.5])\n",
        "    ])\n",
        "\n",
        "    # Preprocess the image\n",
        "    image_tensor = transformation(image).float()\n",
        "\n",
        "    # Add an extra batch dimension since pytorch treats all inputs as batches\n",
        "    image_tensor = image_tensor.unsqueeze_(0)\n",
        "\n",
        "    # Turn the input into a Variable\n",
        "    input_features = Variable(image_tensor)\n",
        "\n",
        "    # Predict the class of the image\n",
        "    output = classifier(input_features)\n",
        "    index = output.data.numpy().argmax()\n",
        "    return index\n",
        "\n",
        "\n",
        "# Load your model\n",
        "model = Net()\n",
        "model.load_state_dict(torch.load(model_file))\n",
        "\n",
        "# The images are in the data/shapes folder\n",
        "test_data_path = '/content/drive/MyDrive/data/AnimalDataset/test/'\n",
        "\n",
        "# Show the test images with predictions\n",
        "fig = plt.figure(figsize=(8, 12))\n",
        "i = 0\n",
        "for img_file in os.listdir(test_data_path):\n",
        "    i+=1\n",
        "    img_path = os.path.join(test_data_path, img_file)\n",
        "    img = mpimg.imread(img_path)\n",
        "    # Get the image class prediction\n",
        "    index = predict_image(model, np.array(img))\n",
        "    a=fig.add_subplot(1, len(classes),i)\n",
        "    a.axis('off')\n",
        "    imgplot = plt.imshow(img)\n",
        "    a.set_title(classes[index])\n",
        "plt.show()"
      ],
      "metadata": {
        "colab": {
          "base_uri": "https://localhost:8080/",
          "height": 144
        },
        "id": "42c6-I_cub_x",
        "outputId": "f4bd4970-60ed-4ef0-c526-719b5bc9a78a"
      },
      "execution_count": null,
      "outputs": [
        {
          "output_type": "display_data",
          "data": {
            "text/plain": [
              "<Figure size 576x864 with 4 Axes>"
            ],
            "image/png": "[encoded data removed]"
          },
          "metadata": {
            "needs_background": "light"
          }
        }
      ]
    },
    {
      "cell_type": "code",
      "source": [],
      "metadata": {
        "id": "_NeHd4PVuozg"
      },
      "execution_count": null,
      "outputs": []
    }
  ]
}